{
 "cells": [
  {
   "cell_type": "code",
   "execution_count": 2,
   "metadata": {
    "collapsed": true
   },
   "outputs": [],
   "source": [
    "import numpy as np\n",
    "import pandas as pd\n",
    "import matplotlib.pyplot as plt\n",
    "from datetime import datetime\n",
    "%matplotlib inline"
   ]
  },
  {
   "cell_type": "markdown",
   "metadata": {},
   "source": [
    "## Pré-tratamento dos dados"
   ]
  },
  {
   "cell_type": "markdown",
   "metadata": {},
   "source": [
    "#### Pandas"
   ]
  },
  {
   "cell_type": "code",
   "execution_count": 3,
   "metadata": {},
   "outputs": [
    {
     "data": {
      "text/html": [
       "<div>\n",
       "<style scoped>\n",
       "    .dataframe tbody tr th:only-of-type {\n",
       "        vertical-align: middle;\n",
       "    }\n",
       "\n",
       "    .dataframe tbody tr th {\n",
       "        vertical-align: top;\n",
       "    }\n",
       "\n",
       "    .dataframe thead th {\n",
       "        text-align: right;\n",
       "    }\n",
       "</style>\n",
       "<table border=\"1\" class=\"dataframe\">\n",
       "  <thead>\n",
       "    <tr style=\"text-align: right;\">\n",
       "      <th></th>\n",
       "      <th>Sunspots</th>\n",
       "    </tr>\n",
       "    <tr>\n",
       "      <th>Date</th>\n",
       "      <th></th>\n",
       "    </tr>\n",
       "  </thead>\n",
       "  <tbody>\n",
       "    <tr>\n",
       "      <th>1818-01-01</th>\n",
       "      <td>-1</td>\n",
       "    </tr>\n",
       "    <tr>\n",
       "      <th>1818-01-02</th>\n",
       "      <td>-1</td>\n",
       "    </tr>\n",
       "    <tr>\n",
       "      <th>1818-01-03</th>\n",
       "      <td>-1</td>\n",
       "    </tr>\n",
       "    <tr>\n",
       "      <th>1818-01-04</th>\n",
       "      <td>-1</td>\n",
       "    </tr>\n",
       "    <tr>\n",
       "      <th>1818-01-05</th>\n",
       "      <td>-1</td>\n",
       "    </tr>\n",
       "  </tbody>\n",
       "</table>\n",
       "</div>"
      ],
      "text/plain": [
       "            Sunspots\n",
       "Date                \n",
       "1818-01-01        -1\n",
       "1818-01-02        -1\n",
       "1818-01-03        -1\n",
       "1818-01-04        -1\n",
       "1818-01-05        -1"
      ]
     },
     "execution_count": 3,
     "metadata": {},
     "output_type": "execute_result"
    }
   ],
   "source": [
    "df = pd.read_csv('SN_d_tot_V2.0.csv', sep=';', header=None)\n",
    "df.columns = ['year', 'month','day', 'FracDate', 'Sunspots', 'Std', 'Observations', 'Verified']\n",
    "df = df[['year','month','day', 'Sunspots']]\n",
    "df['Date'] = df.apply(lambda row: datetime(\n",
    "                              int(row['year']), int(row['month']),int(row['day'])), axis=1)\n",
    "\n",
    "df['Date'] = pd.to_datetime(df[\"Date\"])\n",
    "df_idx = df.set_index([\"Date\"], drop=True)\n",
    "\n",
    "daily_sun= df[['Date','Sunspots']]#df.head()\n",
    "daily_sun = daily_sun.set_index([\"Date\"], drop=True)\n",
    "daily_sun.head()"
   ]
  },
  {
   "cell_type": "markdown",
   "metadata": {},
   "source": [
    "#### Ordenar os dados"
   ]
  },
  {
   "cell_type": "code",
   "execution_count": 5,
   "metadata": {
    "collapsed": true
   },
   "outputs": [
    {
     "data": {
      "text/html": [
       "<div>\n",
       "<style scoped>\n",
       "    .dataframe tbody tr th:only-of-type {\n",
       "        vertical-align: middle;\n",
       "    }\n",
       "\n",
       "    .dataframe tbody tr th {\n",
       "        vertical-align: top;\n",
       "    }\n",
       "\n",
       "    .dataframe thead th {\n",
       "        text-align: right;\n",
       "    }\n",
       "</style>\n",
       "<table border=\"1\" class=\"dataframe\">\n",
       "  <thead>\n",
       "    <tr style=\"text-align: right;\">\n",
       "      <th></th>\n",
       "      <th>Sunspots</th>\n",
       "    </tr>\n",
       "    <tr>\n",
       "      <th>Date</th>\n",
       "      <th></th>\n",
       "    </tr>\n",
       "  </thead>\n",
       "  <tbody>\n",
       "    <tr>\n",
       "      <th>1818-01-01</th>\n",
       "      <td>-1</td>\n",
       "    </tr>\n",
       "    <tr>\n",
       "      <th>1818-01-02</th>\n",
       "      <td>-1</td>\n",
       "    </tr>\n",
       "    <tr>\n",
       "      <th>1818-01-03</th>\n",
       "      <td>-1</td>\n",
       "    </tr>\n",
       "    <tr>\n",
       "      <th>1818-01-04</th>\n",
       "      <td>-1</td>\n",
       "    </tr>\n",
       "    <tr>\n",
       "      <th>1818-01-05</th>\n",
       "      <td>-1</td>\n",
       "    </tr>\n",
       "    <tr>\n",
       "      <th>1818-01-06</th>\n",
       "      <td>-1</td>\n",
       "    </tr>\n",
       "    <tr>\n",
       "      <th>1818-01-07</th>\n",
       "      <td>-1</td>\n",
       "    </tr>\n",
       "    <tr>\n",
       "      <th>1818-01-08</th>\n",
       "      <td>65</td>\n",
       "    </tr>\n",
       "    <tr>\n",
       "      <th>1818-01-09</th>\n",
       "      <td>-1</td>\n",
       "    </tr>\n",
       "    <tr>\n",
       "      <th>1818-01-10</th>\n",
       "      <td>-1</td>\n",
       "    </tr>\n",
       "  </tbody>\n",
       "</table>\n",
       "</div>"
      ],
      "text/plain": [
       "            Sunspots\n",
       "Date                \n",
       "1818-01-01        -1\n",
       "1818-01-02        -1\n",
       "1818-01-03        -1\n",
       "1818-01-04        -1\n",
       "1818-01-05        -1\n",
       "1818-01-06        -1\n",
       "1818-01-07        -1\n",
       "1818-01-08        65\n",
       "1818-01-09        -1\n",
       "1818-01-10        -1"
      ]
     },
     "execution_count": 5,
     "metadata": {},
     "output_type": "execute_result"
    }
   ],
   "source": [
    "daily_sun = daily_sun.sort_index(axis=1, ascending=True)\n",
    "daily_sun = daily_sun.iloc[::-1]\n",
    "daily_sun.head(10)"
   ]
  },
  {
   "cell_type": "markdown",
   "metadata": {},
   "source": [
    "#### Plot"
   ]
  },
  {
   "cell_type": "code",
   "execution_count": 6,
   "metadata": {},
   "outputs": [
    {
     "data": {
      "image/png": "[encoded data removed]",
      "text/plain": [
       "<matplotlib.figure.Figure at 0x7f67fa7afbe0>"
      ]
     },
     "metadata": {},
     "output_type": "display_data"
    }
   ],
   "source": [
    "data = daily_sun[['Sunspots']]\n",
    "data.plot(y='Sunspots')\n",
    "plt.show()"
   ]
  },
  {
   "cell_type": "code",
   "execution_count": 7,
   "metadata": {},
   "outputs": [
    {
     "name": "stdout",
     "output_type": "stream",
     "text": [
      "Total data: 200 years\n",
      "80 percent data = 1749 to 1978\n"
     ]
    }
   ],
   "source": [
    "diff = data.index.values[-1] - data.index.values[0]\n",
    "days = diff.astype('timedelta64[D]')\n",
    "days = days / np.timedelta64(1, 'D')\n",
    "years = int(days/365)\n",
    "print(\"Total data: %d years\"%years)\n",
    "print(\"80 percent data = 1749 to %d\"%(1818 + int(0.8*years)))"
   ]
  },
  {
   "cell_type": "markdown",
   "metadata": {},
   "source": [
    "#### Dados de treino e validação"
   ]
  },
  {
   "cell_type": "code",
   "execution_count": 8,
   "metadata": {},
   "outputs": [
    {
     "data": {
      "image/png": "[encoded data removed]",
      "text/plain": [
       "<matplotlib.figure.Figure at 0x7f67f8129dd8>"
      ]
     },
     "metadata": {},
     "output_type": "display_data"
    }
   ],
   "source": [
    "split_date = pd.Timestamp('01-01-1978')\n",
    "\n",
    "train = data.loc[:split_date]\n",
    "test = data.loc[split_date:]\n",
    "\n",
    "ax = train.plot(figsize=(10,12))\n",
    "test.plot(ax=ax)\n",
    "plt.legend(['train', 'test'])\n",
    "plt.show()"
   ]
  },
  {
   "cell_type": "markdown",
   "metadata": {},
   "source": [
    "#### Normalização"
   ]
  },
  {
   "cell_type": "code",
   "execution_count": 9,
   "metadata": {
    "collapsed": true
   },
   "outputs": [],
   "source": [
    "from sklearn.preprocessing import MinMaxScaler\n",
    "sc = MinMaxScaler()\n",
    "train_sc = sc.fit_transform(train)\n",
    "test_sc = sc.transform(test)"
   ]
  },
  {
   "cell_type": "code",
   "execution_count": 10,
   "metadata": {
    "collapsed": true
   },
   "outputs": [],
   "source": [
    "train_sc_df = pd.DataFrame(train_sc, columns=['Y'], index=train.index)\n",
    "test_sc_df = pd.DataFrame(test_sc, columns=['Y'], index=test.index)\n",
    "\n",
    "for s in range(1,2):\n",
    "    train_sc_df['X_{}'.format(s)] = train_sc_df['Y'].shift(s)\n",
    "    test_sc_df['X_{}'.format(s)] = test_sc_df['Y'].shift(s)\n",
    "\n",
    "X_train = train_sc_df.dropna().drop('Y', axis=1)\n",
    "y_train = train_sc_df.dropna().drop('X_1', axis=1)\n",
    "\n",
    "X_test = test_sc_df.dropna().drop('Y', axis=1)\n",
    "y_test = test_sc_df.dropna().drop('X_1', axis=1)\n",
    "\n",
    "X_train = X_train.as_matrix()\n",
    "y_train = y_train.as_matrix()\n",
    "\n",
    "X_test = X_test.as_matrix()\n",
    "y_test = y_test.as_matrix()"
   ]
  },
  {
   "cell_type": "code",
   "execution_count": 11,
   "metadata": {},
   "outputs": [
    {
     "name": "stdout",
     "output_type": "stream",
     "text": [
      "Train size: (58439 x 1)\n",
      "Test size: (14760 x 1)\n"
     ]
    }
   ],
   "source": [
    "print('Train size: (%d x %d)'%(X_train.shape[0], X_train.shape[1]))\n",
    "print('Test size: (%d x %d)'%(X_test.shape[0], X_test.shape[1]))"
   ]
  },
  {
   "cell_type": "code",
   "execution_count": 13,
   "metadata": {},
   "outputs": [
    {
     "data": {
      "text/plain": [
       "array([[0.        ],\n",
       "       [0.        ],\n",
       "       [0.        ],\n",
       "       [0.        ],\n",
       "       [0.        ],\n",
       "       [0.        ],\n",
       "       [0.        ],\n",
       "       [0.12476371],\n",
       "       [0.        ],\n",
       "       [0.        ],\n",
       "       [0.        ],\n",
       "       [0.        ],\n",
       "       [0.07183365],\n",
       "       [0.        ],\n",
       "       [0.        ],\n",
       "       [0.        ],\n",
       "       [0.14744802],\n",
       "       [0.18714556],\n",
       "       [0.20037807],\n",
       "       [0.        ],\n",
       "       [0.        ],\n",
       "       [0.        ],\n",
       "       [0.        ],\n",
       "       [0.        ],\n",
       "       [0.04914934],\n",
       "       [0.        ],\n",
       "       [0.        ],\n",
       "       [0.07372401],\n",
       "       [0.03969754],\n",
       "       [0.        ],\n",
       "       [0.        ],\n",
       "       [0.        ],\n",
       "       [0.        ],\n",
       "       [0.03402647],\n",
       "       [0.        ],\n",
       "       [0.03969754],\n",
       "       [0.04914934],\n",
       "       [0.        ],\n",
       "       [0.        ],\n",
       "       [0.16635161],\n",
       "       [0.        ],\n",
       "       [0.        ],\n",
       "       [0.        ],\n",
       "       [0.36483932],\n",
       "       [0.13988658],\n",
       "       [0.15689981],\n",
       "       [0.05482042],\n",
       "       [0.        ],\n",
       "       [0.        ],\n",
       "       [0.00189036],\n",
       "       [0.        ],\n",
       "       [0.00189036],\n",
       "       [0.        ],\n",
       "       [0.00189036],\n",
       "       [0.        ],\n",
       "       [0.00189036],\n",
       "       [0.00189036],\n",
       "       [0.00189036],\n",
       "       [0.        ],\n",
       "       [0.        ],\n",
       "       [0.        ],\n",
       "       [0.        ],\n",
       "       [0.        ],\n",
       "       [0.        ],\n",
       "       [0.05482042],\n",
       "       [0.        ],\n",
       "       [0.        ],\n",
       "       [0.        ],\n",
       "       [0.0926276 ],\n",
       "       [0.        ],\n",
       "       [0.        ],\n",
       "       [0.        ],\n",
       "       [0.06238185],\n",
       "       [0.04914934],\n",
       "       [0.09073724],\n",
       "       [0.        ],\n",
       "       [0.0831758 ],\n",
       "       [0.00189036],\n",
       "       [0.00189036],\n",
       "       [0.16257089],\n",
       "       [0.        ],\n",
       "       [0.10018904],\n",
       "       [0.15311909],\n",
       "       [0.        ],\n",
       "       [0.        ],\n",
       "       [0.10964083],\n",
       "       [0.0926276 ],\n",
       "       [0.0926276 ],\n",
       "       [0.        ],\n",
       "       [0.        ],\n",
       "       [0.        ],\n",
       "       [0.        ],\n",
       "       [0.        ],\n",
       "       [0.03591682],\n",
       "       [0.10586011],\n",
       "       [0.07372401],\n",
       "       [0.        ],\n",
       "       [0.07372401],\n",
       "       [0.11531191],\n",
       "       [0.11909263]])"
      ]
     },
     "execution_count": 13,
     "metadata": {},
     "output_type": "execute_result"
    }
   ],
   "source": [
    "X_train[0:100]"
   ]
  },
  {
   "cell_type": "code",
   "execution_count": 14,
   "metadata": {},
   "outputs": [
    {
     "data": {
      "text/plain": [
       "array([[0.25330813],\n",
       "       [0.27977316],\n",
       "       [0.2778828 ],\n",
       "       [0.24574669],\n",
       "       [0.21361059],\n",
       "       [0.14933837],\n",
       "       [0.10586011],\n",
       "       [0.09829868],\n",
       "       [0.04347826],\n",
       "       [0.05671078],\n",
       "       [0.07183365],\n",
       "       [0.09073724],\n",
       "       [0.10018904],\n",
       "       [0.0926276 ],\n",
       "       [0.07561437],\n",
       "       [0.07183365],\n",
       "       [0.0415879 ],\n",
       "       [0.02457467],\n",
       "       [0.02457467],\n",
       "       [0.05482042],\n",
       "       [0.07750473],\n",
       "       [0.10964083],\n",
       "       [0.10964083],\n",
       "       [0.10396975],\n",
       "       [0.13232514],\n",
       "       [0.18147448],\n",
       "       [0.20982987],\n",
       "       [0.24196597],\n",
       "       [0.2778828 ],\n",
       "       [0.31758034],\n",
       "       [0.34404537],\n",
       "       [0.32325142],\n",
       "       [0.34971645],\n",
       "       [0.38185255],\n",
       "       [0.36862004],\n",
       "       [0.34782609],\n",
       "       [0.3289225 ],\n",
       "       [0.24196597],\n",
       "       [0.26086957],\n",
       "       [0.27410208],\n",
       "       [0.30245747],\n",
       "       [0.3100189 ],\n",
       "       [0.25897921],\n",
       "       [0.22117202],\n",
       "       [0.1758034 ],\n",
       "       [0.17391304],\n",
       "       [0.15689981],\n",
       "       [0.15500945],\n",
       "       [0.15122873],\n",
       "       [0.15689981],\n",
       "       [0.1758034 ],\n",
       "       [0.19659735],\n",
       "       [0.20604915],\n",
       "       [0.24574669],\n",
       "       [0.25330813],\n",
       "       [0.24196597],\n",
       "       [0.22873346],\n",
       "       [0.23818526],\n",
       "       [0.27410208],\n",
       "       [0.24763705],\n",
       "       [0.25708885],\n",
       "       [0.26465028],\n",
       "       [0.2268431 ],\n",
       "       [0.20226843],\n",
       "       [0.24196597],\n",
       "       [0.26654064],\n",
       "       [0.25330813],\n",
       "       [0.24763705],\n",
       "       [0.23818526],\n",
       "       [0.20982987],\n",
       "       [0.19659735],\n",
       "       [0.19470699],\n",
       "       [0.20037807],\n",
       "       [0.20037807],\n",
       "       [0.20037807],\n",
       "       [0.20037807],\n",
       "       [0.1758034 ],\n",
       "       [0.16068053],\n",
       "       [0.20793951],\n",
       "       [0.2268431 ],\n",
       "       [0.23818526],\n",
       "       [0.22873346],\n",
       "       [0.20037807],\n",
       "       [0.16257089],\n",
       "       [0.14177694],\n",
       "       [0.13232514],\n",
       "       [0.13043478],\n",
       "       [0.12287335],\n",
       "       [0.15689981],\n",
       "       [0.18903592],\n",
       "       [0.18336484],\n",
       "       [0.19281664],\n",
       "       [0.20226843],\n",
       "       [0.25330813],\n",
       "       [0.24763705],\n",
       "       [0.23818526],\n",
       "       [0.28355388],\n",
       "       [0.33837429],\n",
       "       [0.33648393],\n",
       "       [0.32325142]])"
      ]
     },
     "execution_count": 14,
     "metadata": {},
     "output_type": "execute_result"
    }
   ],
   "source": [
    "y_test[0:100]"
   ]
  },
  {
   "cell_type": "markdown",
   "metadata": {},
   "source": [
    "## Modelo SVM regressivo"
   ]
  },
  {
   "cell_type": "code",
   "execution_count": 43,
   "metadata": {
    "collapsed": true
   },
   "outputs": [],
   "source": [
    "from sklearn.svm import SVR\n",
    "regressor = SVR(kernel='rbf')"
   ]
  },
  {
   "cell_type": "code",
   "execution_count": 44,
   "metadata": {},
   "outputs": [
    {
     "name": "stderr",
     "output_type": "stream",
     "text": [
      "/home/janarf/anaconda3/lib/python3.6/site-packages/sklearn/utils/validation.py:578: DataConversionWarning: A column-vector y was passed when a 1d array was expected. Please change the shape of y to (n_samples, ), for example using ravel().\n",
      "  y = column_or_1d(y, warn=True)\n"
     ]
    }
   ],
   "source": [
    "regressor.fit(X_train, y_train)\n",
    "y_pred = regressor.predict(X_test)"
   ]
  },
  {
   "cell_type": "code",
   "execution_count": 45,
   "metadata": {},
   "outputs": [
    {
     "data": {
      "text/plain": [
       "[<matplotlib.lines.Line2D at 0x7fef9c53cc50>]"
      ]
     },
     "execution_count": 45,
     "metadata": {},
     "output_type": "execute_result"
    },
    {
     "data": {
      "image/png": "[encoded data removed]",
      "text/plain": [
       "<matplotlib.figure.Figure at 0x7fef9fc61b70>"
      ]
     },
     "metadata": {},
     "output_type": "display_data"
    }
   ],
   "source": [
    "plt.plot(y_test)\n",
    "plt.plot(y_pred)"
   ]
  },
  {
   "cell_type": "code",
   "execution_count": 47,
   "metadata": {},
   "outputs": [
    {
     "name": "stdout",
     "output_type": "stream",
     "text": [
      "R-squared is: 0.867444\n"
     ]
    }
   ],
   "source": [
    "from sklearn.metrics import r2_score\n",
    "\n",
    "def adj_r2_score(r2, n, k):\n",
    "    return 1-((1-r2)*((n-1)/(n-k-1)))\n",
    "\n",
    "r2_test = r2_score(y_test, y_pred)\n",
    "print(\"R-squared is: %f\"%r2_test)"
   ]
  },
  {
   "cell_type": "markdown",
   "metadata": {},
   "source": [
    "## Usando Redes Neurais"
   ]
  },
  {
   "cell_type": "code",
   "execution_count": 48,
   "metadata": {},
   "outputs": [],
   "source": [
    "import keras\n",
    "from keras.models import Sequential\n",
    "from keras.layers import Dense\n",
    "from keras.optimizers import Adam\n",
    "import keras.backend as K"
   ]
  },
  {
   "cell_type": "markdown",
   "metadata": {},
   "source": [
    "### 1 hidden layer with 1 neuron"
   ]
  },
  {
   "cell_type": "code",
   "execution_count": 49,
   "metadata": {
    "scrolled": true
   },
   "outputs": [
    {
     "name": "stdout",
     "output_type": "stream",
     "text": [
      "Epoch 1/30\n",
      "58439/58439 [==============================] - 3s 56us/step - loss: 0.0267\n",
      "Epoch 2/30\n",
      "58439/58439 [==============================] - 3s 46us/step - loss: 0.0048\n",
      "Epoch 3/30\n",
      "58439/58439 [==============================] - 3s 47us/step - loss: 0.0047\n",
      "Epoch 4/30\n",
      "58439/58439 [==============================] - 3s 47us/step - loss: 0.0047\n",
      "Epoch 5/30\n",
      "58439/58439 [==============================] - 3s 48us/step - loss: 0.0047\n",
      "Epoch 6/30\n",
      "58439/58439 [==============================] - 3s 47us/step - loss: 0.0047\n",
      "Epoch 7/30\n",
      "58439/58439 [==============================] - 3s 47us/step - loss: 0.0047\n",
      "Epoch 8/30\n",
      "58439/58439 [==============================] - 3s 51us/step - loss: 0.0047\n",
      "Epoch 9/30\n",
      "58439/58439 [==============================] - 3s 50us/step - loss: 0.0047\n",
      "Epoch 10/30\n",
      "58439/58439 [==============================] - 3s 55us/step - loss: 0.0047\n",
      "Epoch 11/30\n",
      "58439/58439 [==============================] - 3s 50us/step - loss: 0.0047\n",
      "Epoch 12/30\n",
      "58439/58439 [==============================] - 3s 45us/step - loss: 0.0047\n",
      "Epoch 13/30\n",
      "58439/58439 [==============================] - 3s 46us/step - loss: 0.0047\n",
      "Epoch 14/30\n",
      "58439/58439 [==============================] - 3s 48us/step - loss: 0.0047\n",
      "Epoch 15/30\n",
      "58439/58439 [==============================] - 3s 45us/step - loss: 0.0047\n",
      "Epoch 16/30\n",
      "58439/58439 [==============================] - 3s 54us/step - loss: 0.0047\n",
      "Epoch 17/30\n",
      "58439/58439 [==============================] - 3s 50us/step - loss: 0.0047\n",
      "Epoch 18/30\n",
      "58439/58439 [==============================] - 3s 50us/step - loss: 0.0047\n",
      "Epoch 19/30\n",
      "58439/58439 [==============================] - 3s 50us/step - loss: 0.0047\n",
      "Epoch 20/30\n",
      "58439/58439 [==============================] - 3s 50us/step - loss: 0.0047\n",
      "Epoch 21/30\n",
      "58439/58439 [==============================] - 3s 51us/step - loss: 0.0047\n",
      "Epoch 22/30\n",
      "58439/58439 [==============================] - 3s 50us/step - loss: 0.0047\n",
      "Epoch 23/30\n",
      "58439/58439 [==============================] - 3s 50us/step - loss: 0.0047\n",
      "Epoch 24/30\n",
      "58439/58439 [==============================] - 3s 50us/step - loss: 0.0047\n",
      "Epoch 25/30\n",
      "58439/58439 [==============================] - 3s 52us/step - loss: 0.0047\n",
      "Epoch 26/30\n",
      "58439/58439 [==============================] - 3s 59us/step - loss: 0.0047\n",
      "Epoch 27/30\n",
      "58439/58439 [==============================] - 3s 56us/step - loss: 0.0047\n",
      "Epoch 28/30\n",
      "58439/58439 [==============================] - 3s 58us/step - loss: 0.0047\n",
      "Epoch 29/30\n",
      "58439/58439 [==============================] - 3s 53us/step - loss: 0.0047\n",
      "Epoch 30/30\n",
      "58439/58439 [==============================] - 3s 47us/step - loss: 0.0047\n"
     ]
    },
    {
     "data": {
      "text/plain": [
       "<keras.callbacks.History at 0x7fef9c5545c0>"
      ]
     },
     "execution_count": 49,
     "metadata": {},
     "output_type": "execute_result"
    }
   ],
   "source": [
    "K.clear_session()\n",
    "model = Sequential()\n",
    "model.add(Dense(1, input_shape=(X_test.shape[1],), activation='tanh', kernel_initializer='lecun_uniform'))\n",
    "model.compile(optimizer=Adam(lr=0.001), loss='mean_squared_error')\n",
    "model.fit(X_train, y_train, batch_size=16, epochs=5, verbose=1)"
   ]
  },
  {
   "cell_type": "code",
   "execution_count": 50,
   "metadata": {},
   "outputs": [
    {
     "name": "stdout",
     "output_type": "stream",
     "text": [
      "R-Squared: 0.944853\n"
     ]
    },
    {
     "data": {
      "image/png": "[encoded data removed]",
      "text/plain": [
       "<matplotlib.figure.Figure at 0x7fef9c4ddef0>"
      ]
     },
     "metadata": {},
     "output_type": "display_data"
    }
   ],
   "source": [
    "y_pred = model.predict(X_test)\n",
    "plt.plot(y_test)\n",
    "plt.plot(y_pred)\n",
    "print('R-Squared: %f'%(r2_score(y_test, y_pred)))"
   ]
  },
  {
   "cell_type": "markdown",
   "metadata": {},
   "source": [
    "#### 2 Hidden Layers with 50 neurons each and ReLU activation function"
   ]
  },
  {
   "cell_type": "code",
   "execution_count": 51,
   "metadata": {
    "scrolled": true
   },
   "outputs": [
    {
     "name": "stdout",
     "output_type": "stream",
     "text": [
      "Epoch 1/5\n",
      "58439/58439 [==============================] - 3s 55us/step - loss: 0.0048\n",
      "Epoch 2/5\n",
      "58439/58439 [==============================] - 3s 53us/step - loss: 0.0047\n",
      "Epoch 3/5\n",
      "58439/58439 [==============================] - 3s 53us/step - loss: 0.0047\n",
      "Epoch 4/5\n",
      "58439/58439 [==============================] - 3s 53us/step - loss: 0.0047\n",
      "Epoch 5/5\n",
      "58439/58439 [==============================] - 3s 58us/step - loss: 0.0047\n"
     ]
    },
    {
     "data": {
      "text/plain": [
       "<keras.callbacks.History at 0x7fef7b7aea90>"
      ]
     },
     "execution_count": 51,
     "metadata": {},
     "output_type": "execute_result"
    }
   ],
   "source": [
    "K.clear_session()\n",
    "model = Sequential()\n",
    "model.add(Dense(50, input_shape=(X_test.shape[1],), activation='relu', kernel_initializer='lecun_uniform'))\n",
    "model.add(Dense(50, input_shape=(X_test.shape[1],), activation='relu'))\n",
    "model.add(Dense(1))\n",
    "model.compile(optimizer=Adam(lr=0.001), loss='mean_squared_error')\n",
    "model.fit(X_train, y_train, batch_size=16, epochs=5, verbose=1)"
   ]
  },
  {
   "cell_type": "code",
   "execution_count": 52,
   "metadata": {},
   "outputs": [
    {
     "name": "stdout",
     "output_type": "stream",
     "text": [
      "R-Squared: 0.923865\n"
     ]
    },
    {
     "data": {
      "image/png": "[encoded data removed]",
      "text/plain": [
       "<matplotlib.figure.Figure at 0x7fef7b7d07f0>"
      ]
     },
     "metadata": {},
     "output_type": "display_data"
    }
   ],
   "source": [
    "y_pred = model.predict(X_test)\n",
    "plt.plot(y_test)\n",
    "plt.plot(y_pred)\n",
    "print('R-Squared: %f'%(r2_score(y_test, y_pred)))"
   ]
  },
  {
   "cell_type": "code",
   "execution_count": null,
   "metadata": {
    "collapsed": true
   },
   "outputs": [],
   "source": []
  }
 ],
 "metadata": {
  "kernelspec": {
   "display_name": "Python 3",
   "language": "python",
   "name": "python3"
  },
  "language_info": {
   "codemirror_mode": {
    "name": "ipython",
    "version": 3
   },
   "file_extension": ".py",
   "mimetype": "text/x-python",
   "name": "python",
   "nbconvert_exporter": "python",
   "pygments_lexer": "ipython3",
   "version": "3.6.4"
  }
 },
 "nbformat": 4,
 "nbformat_minor": 2
}
