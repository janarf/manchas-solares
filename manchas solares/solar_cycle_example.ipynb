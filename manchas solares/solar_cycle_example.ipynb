{
 "cells": [
  {
   "cell_type": "code",
   "execution_count": 3,
   "metadata": {
    "collapsed": false
   },
   "outputs": [],
   "source": [
    "%matplotlib inline"
   ]
  },
  {
   "cell_type": "markdown",
   "metadata": {},
   "source": [
    "\n",
    "# The Solar Cycle\n",
    "\n",
    "\n",
    "This example shows the current and possible next solar cycle.\n",
    "\n"
   ]
  },
  {
   "cell_type": "code",
   "execution_count": 1,
   "metadata": {
    "collapsed": false
   },
   "outputs": [],
   "source": [
    "from __future__ import print_function, division\n",
    "\n",
    "import datetime\n",
    "import matplotlib.pyplot as plt\n",
    "\n",
    "import sunpy.timeseries as ts\n",
    "from sunpy.data.sample import NOAAINDICES_TIMESERIES, NOAAPREDICT_TIMESERIES"
   ]
  },
  {
   "cell_type": "markdown",
   "metadata": {},
   "source": [
    "For this example we will use the SunPy sample data, if you want the current\n",
    "data, delete the argument to the ``create`` function. i.e.\n",
    "``noaa = lc.NOAAIndicesLightCurve.create()``\n",
    "\n"
   ]
  },
  {
   "cell_type": "code",
   "execution_count": 2,
   "metadata": {
    "collapsed": false
   },
   "outputs": [],
   "source": [
    "noaa = ts.TimeSeries(NOAAINDICES_TIMESERIES, source='noaaindices')\n",
    "noaa_predict = ts.TimeSeries(NOAAPREDICT_TIMESERIES, source='noaapredictindices')"
   ]
  },
  {
   "cell_type": "markdown",
   "metadata": {},
   "source": [
    "Next lets grab the data again to create a new data structure that we will\n",
    "shift by 12 years to simulate the next solar cycle. We will truncate the\n",
    "data to only plot what is necessary.\n",
    "\n"
   ]
  },
  {
   "cell_type": "code",
   "execution_count": 7,
   "metadata": {},
   "outputs": [
    {
     "data": {
      "text/html": [
       "<div>\n",
       "<style scoped>\n",
       "    .dataframe tbody tr th:only-of-type {\n",
       "        vertical-align: middle;\n",
       "    }\n",
       "\n",
       "    .dataframe tbody tr th {\n",
       "        vertical-align: top;\n",
       "    }\n",
       "\n",
       "    .dataframe thead th {\n",
       "        text-align: right;\n",
       "    }\n",
       "</style>\n",
       "<table border=\"1\" class=\"dataframe\">\n",
       "  <thead>\n",
       "    <tr style=\"text-align: right;\">\n",
       "      <th></th>\n",
       "      <th>sunspot</th>\n",
       "      <th>sunspot low</th>\n",
       "      <th>sunspot high</th>\n",
       "      <th>radio flux</th>\n",
       "      <th>radio flux low</th>\n",
       "      <th>radio flux high</th>\n",
       "    </tr>\n",
       "    <tr>\n",
       "      <th>time</th>\n",
       "      <th></th>\n",
       "      <th></th>\n",
       "      <th></th>\n",
       "      <th></th>\n",
       "      <th></th>\n",
       "      <th></th>\n",
       "    </tr>\n",
       "  </thead>\n",
       "  <tbody>\n",
       "    <tr>\n",
       "      <th>2019-08-01</th>\n",
       "      <td>5.5</td>\n",
       "      <td>15.5</td>\n",
       "      <td>0.0</td>\n",
       "      <td>63.8</td>\n",
       "      <td>72.8</td>\n",
       "      <td>60.0</td>\n",
       "    </tr>\n",
       "    <tr>\n",
       "      <th>2019-09-01</th>\n",
       "      <td>5.1</td>\n",
       "      <td>15.1</td>\n",
       "      <td>0.0</td>\n",
       "      <td>63.4</td>\n",
       "      <td>72.4</td>\n",
       "      <td>60.0</td>\n",
       "    </tr>\n",
       "    <tr>\n",
       "      <th>2019-10-01</th>\n",
       "      <td>4.8</td>\n",
       "      <td>14.8</td>\n",
       "      <td>0.0</td>\n",
       "      <td>63.1</td>\n",
       "      <td>72.1</td>\n",
       "      <td>60.0</td>\n",
       "    </tr>\n",
       "    <tr>\n",
       "      <th>2019-11-01</th>\n",
       "      <td>4.4</td>\n",
       "      <td>14.4</td>\n",
       "      <td>0.0</td>\n",
       "      <td>62.8</td>\n",
       "      <td>71.8</td>\n",
       "      <td>60.0</td>\n",
       "    </tr>\n",
       "    <tr>\n",
       "      <th>2019-12-01</th>\n",
       "      <td>4.1</td>\n",
       "      <td>14.1</td>\n",
       "      <td>0.0</td>\n",
       "      <td>62.5</td>\n",
       "      <td>71.5</td>\n",
       "      <td>60.0</td>\n",
       "    </tr>\n",
       "  </tbody>\n",
       "</table>\n",
       "</div>"
      ],
      "text/plain": [
       "            sunspot  sunspot low  sunspot high  radio flux  radio flux low  \\\n",
       "time                                                                         \n",
       "2019-08-01      5.5         15.5           0.0        63.8            72.8   \n",
       "2019-09-01      5.1         15.1           0.0        63.4            72.4   \n",
       "2019-10-01      4.8         14.8           0.0        63.1            72.1   \n",
       "2019-11-01      4.4         14.4           0.0        62.8            71.8   \n",
       "2019-12-01      4.1         14.1           0.0        62.5            71.5   \n",
       "\n",
       "            radio flux high  \n",
       "time                         \n",
       "2019-08-01             60.0  \n",
       "2019-09-01             60.0  \n",
       "2019-10-01             60.0  \n",
       "2019-11-01             60.0  \n",
       "2019-12-01             60.0  "
      ]
     },
     "execution_count": 7,
     "metadata": {},
     "output_type": "execute_result"
    }
   ],
   "source": [
    "noaa_predict.data.tail()"
   ]
  },
  {
   "cell_type": "code",
   "execution_count": 4,
   "metadata": {
    "collapsed": false
   },
   "outputs": [],
   "source": [
    "noaa2 = ts.TimeSeries(NOAAINDICES_TIMESERIES, source='noaaindices')\n",
    "noaa2.data = noaa2.data.shift(2, freq=datetime.timedelta(days=365*12))\n",
    "noaa2 = noaa2.truncate('2021/04/01', '2030/01/01')"
   ]
  },
  {
   "cell_type": "markdown",
   "metadata": {},
   "source": [
    "Finally lets plot everything together with some arbitrary range for the\n",
    "strength of the next solar cycle.\n",
    "\n"
   ]
  },
  {
   "cell_type": "code",
   "execution_count": 5,
   "metadata": {
    "collapsed": false
   },
   "outputs": [
    {
     "data": {
      "image/png": "[encoded data removed]",
      "text/plain": [
       "<matplotlib.figure.Figure at 0x7fe7cc70f780>"
      ]
     },
     "metadata": {},
     "output_type": "display_data"
    }
   ],
   "source": [
    "plt.plot(noaa.data.index, noaa.data['sunspot RI'], label='Sunspot Number')\n",
    "plt.plot(noaa_predict.data.index, noaa_predict.data['sunspot'],\n",
    "         color='grey', label='Near-term Prediction')\n",
    "plt.fill_between(noaa_predict.data.index, noaa_predict.data['sunspot low'],\n",
    "                 noaa_predict.data['sunspot high'], alpha=0.3, color='grey')\n",
    "\n",
    "plt.fill_between(noaa2.data.index, noaa2.data['sunspot RI smooth']*0.4,\n",
    "                 noaa2.data['sunspot RI smooth']*1.3, alpha=0.3, color='grey',\n",
    "                 label='Next Cycle Predict')\n",
    "plt.ylim(0)\n",
    "plt.text('2011-01-01', 120, 'Cycle 24', fontsize=16)\n",
    "plt.text('2024-01-01', 120, 'Cycle 25', fontsize=16)\n",
    "plt.ylabel('Sunspot Number')\n",
    "plt.xlabel('Year')\n",
    "plt.legend(loc=2, framealpha=0.5)\n",
    "plt.show()"
   ]
  }
 ],
 "metadata": {
  "kernelspec": {
   "display_name": "Python 3",
   "language": "python",
   "name": "python3"
  },
  "language_info": {
   "codemirror_mode": {
    "name": "ipython",
    "version": 3
   },
   "file_extension": ".py",
   "mimetype": "text/x-python",
   "name": "python",
   "nbconvert_exporter": "python",
   "pygments_lexer": "ipython3",
   "version": "3.6.4"
  }
 },
 "nbformat": 4,
 "nbformat_minor": 2
}
