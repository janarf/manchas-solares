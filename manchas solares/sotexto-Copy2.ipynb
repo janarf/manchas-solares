{
 "cells": [
  {
   "cell_type": "markdown",
   "metadata": {
    "slideshow": {
     "slide_type": "slide"
    }
   },
   "source": [
    "### Trabalho de Programação\n",
    "\n",
    "# Análise de dados de manchas solares \n",
    "\n",
    "#### Janaina Fernandes"
   ]
  },
  {
   "cell_type": "markdown",
   "metadata": {
    "slideshow": {
     "slide_type": "slide"
    }
   },
   "source": [
    "### Proposta inicial:\n",
    "\n",
    "Análise de dados de manchas solares no tempo e possível predição de ciclos futuros utilizando técnicas de Machine Learning. \n",
    "\n",
    "Utilizar autoencoders de CNN para melhorar o modelo teórico estabelecido.\n",
    "\n",
    "### Dificuldades encontradas:\n",
    "\n",
    "\n",
    "Dados e código do modelo teórico não disponíveis, análise teórica estatística, falta de familiaridade com a manipulação de séries temporais, dificuldade em encontrar códigos com abordagem prática devido às aplicações de séries temporais no mercado financeiro, necessidade de [feature design](http://www.cs.ucr.edu/~eamonn/meaningless.pdf) para a manipulação desse tipo de dado.\n",
    "\n",
    "### Novo objetivo:\n",
    "\n",
    "Análise exploratória dos dados de manchas solares, visualização, análise estatística e aplicação de métodos \"clássicos\": livro com abordagem prática para análise de séries temporais."
   ]
  },
  {
   "cell_type": "markdown",
   "metadata": {
    "slideshow": {
     "slide_type": "slide"
    }
   },
   "source": [
    "# Practical Time Series Analysis\n",
    "\n",
    "### Master Time Series Data Processing, Visualization and Modeling using Python\n",
    "\n",
    "Dr. Avishek Pal, Dr. PKS Prakash\n",
    "\n"
   ]
  },
  {
   "cell_type": "markdown",
   "metadata": {
    "slideshow": {
     "slide_type": "notes"
    }
   },
   "source": [
    "*Notas*\n",
    "\n",
    "livro de set/2017 - Atual\n",
    "\n",
    "escrito por dois cientistas de dados\n",
    "\n",
    "Modelos estatísticos + machine learning"
   ]
  },
  {
   "cell_type": "code",
   "execution_count": 1,
   "metadata": {},
   "outputs": [],
   "source": [
    "import numpy as np\n",
    "import pandas as pd\n",
    "import matplotlib.pyplot as plt\n",
    "from datetime import datetime\n",
    "%matplotlib inline"
   ]
  },
  {
   "cell_type": "markdown",
   "metadata": {
    "slideshow": {
     "slide_type": "slide"
    }
   },
   "source": [
    "## Capítulo 1: Introdução a Séries Temporais\n",
    "\n",
    "### Diferentes tipos de dados\n",
    "\n",
    "-  Dados de corte transversal (cross-section)\n",
    "-  Série temporal\n",
    "-  Dados em painel (panel data)\n"
   ]
  },
  {
   "cell_type": "markdown",
   "metadata": {
    "slideshow": {
     "slide_type": "notes"
    }
   },
   "source": [
    "*Notas*\n",
    "\n",
    "dados de corte transversal: dados como o pib de uma lista de países no ano passado, dados descritivos da população brasileira, votação nas últimas eleições.\n",
    "\n",
    "série temporal: dados de manchas solares, bolsa de valores, brl - usd\n",
    "\n",
    "dados em painel: acompanhar os dados de corte transversal ao longo de um período de tempo, evolução dos indicadores de educação no brasil em um determinado período, gastos militares de usa, china, uk e india em % do pib.\n",
    "\n",
    "Vamos analisar somente time series a fundo já aplicando qdo possível os dados de manchas solares"
   ]
  },
  {
   "cell_type": "markdown",
   "metadata": {
    "slideshow": {
     "slide_type": "slide"
    }
   },
   "source": [
    "### Estruturas internas de séries temporais\n",
    "\n",
    "-  Tendência\n",
    "-  Sazonalidade (seasonality)\n",
    "-  Movimentos cíclicos\n",
    "-  Variações inesperadas\n",
    "\n",
    "Baseado nesse modelo uma série temporal pode ser expressa por:\n",
    "\n",
    "$$x_t = f_t+s_t+c_t+e_t$$"
   ]
  },
  {
   "cell_type": "markdown",
   "metadata": {
    "slideshow": {
     "slide_type": "notes"
    }
   },
   "source": [
    "*notas*\n",
    "\n",
    "Tendencia: pode ser em forma de reta, segunda ordem, exponencial\n",
    "\n",
    "Sazonalidade: repetições periódicas em uma serie temporal. ao retirar a tendencia é possível observar\n",
    "\n",
    "Movimentos cíclicos: ocorrem menos frequentemente que as flutuações sazonais, pode não ter um período fixo, assim como pra identificar tendencia, podem ser necessarios dados mto antigos.\n",
    "\n",
    "Variações inesperadas: pode ser devido a falta de informação sobre variaveis que explicam esse fenomeno ou pela presença de random noise"
   ]
  },
  {
   "cell_type": "markdown",
   "metadata": {
    "slideshow": {
     "slide_type": "notes"
    }
   },
   "source": [
    "*Notas*\n",
    "\n",
    "O objetivo de uma série temporal é decompor nessas características acima e desenvolver modelos matemáticos pra cada uma. Esse modelo é utilizado para avaliar causas dos dados observados e predizer pontos futuros"
   ]
  },
  {
   "cell_type": "markdown",
   "metadata": {
    "slideshow": {
     "slide_type": "slide"
    }
   },
   "source": [
    "### Modelos para análise de série temporal\n",
    "\n",
    "-  Modelos de média zero\n",
    "-  Random walk\n",
    "-  Modelos de tendência\n",
    "-  Modelos de sazonalidade\n"
   ]
  },
  {
   "cell_type": "markdown",
   "metadata": {
    "slideshow": {
     "slide_type": "slide"
    }
   },
   "source": [
    "#### Modelos de média zero\n",
    "\n",
    "Observações deste modelo são assumidas como sendo **independentes e identicamente distribuídas (iid)** e representam o random noise em torno da média fixa (subtraída da série temporal como termo constante).\n"
   ]
  },
  {
   "cell_type": "markdown",
   "metadata": {
    "slideshow": {
     "slide_type": "slide"
    }
   },
   "source": [
    "#### Random walk\n",
    "\n",
    "Dado como a soma de n iids. Pode ser reduzido ao modelo de média zero tomando as diferenças entre dois índices consecutivos:\n",
    "\n",
    "$$ S_t-S_{t-1} = x_t$$\n",
    "\n",
    "$x_t$ é iid com média zéro e variância constante."
   ]
  },
  {
   "cell_type": "markdown",
   "metadata": {
    "slideshow": {
     "slide_type": "slide"
    }
   },
   "source": [
    "#### Modelos de tendência\n",
    "\n",
    "A escolha do modelo de tendência $\\mu(t)$ é fundamental para a modelagem correta da série tempora. A análise exploratória dos dados normalmente dá dicas se devemos aplicar o modelo linear ou não linear em $t$.\n",
    "\n",
    "$$\\mu(t)=\\omega t +b$$\n",
    "$$\\mu(t)=\\omega_1 t+\\omega_2 t^2 +b$$\n",
    "$$\\mu(t)=\\omega_0 t^p +b$$\n",
    "\n",
    "Exemplos de modelos lineares e não lineares de tendência."
   ]
  },
  {
   "cell_type": "markdown",
   "metadata": {
    "slideshow": {
     "slide_type": "slide"
    }
   },
   "source": [
    "#### Modelos de sazonalidade\n",
    "\n",
    "Podem ser expressados pela soma ponderada de senos com peridiocidade conhecida:\n",
    "\n",
    "$$s_t = \\sum \\frac{L}{k-1}(w_k\\cos{\\alpha t}+v_k\\sin{\\alpha t})+b$$\n",
    "\n",
    "Também conhecido como modelo de regressão harmônica."
   ]
  },
  {
   "cell_type": "markdown",
   "metadata": {
    "slideshow": {
     "slide_type": "slide"
    }
   },
   "source": [
    "### Passo a passo para análise de uma série temporal\n",
    "\n",
    "-  Visualização de dados com diferentes granularidades de tempo para revelar tendência e flutuações sazonais.\n",
    "-  Identificação da tendência e plot do resíduo para identificar sazonalidade ou erro irredutível.\n",
    "-  Modelo de regressão harmônica para capturar a sazonalidade.\n",
    "-  Plotar o erro residual restante e identificar se é realmente erro irredutível."
   ]
  },
  {
   "cell_type": "markdown",
   "metadata": {
    "slideshow": {
     "slide_type": "slide"
    }
   },
   "source": [
    "### Autocorrelação e Autocorrelação parcial\n",
    "\n",
    "Depois de aplicar as tranformações anteriores ficamos com o que é chamado de **série temporal estacionária**, caracterizada por uma média constante $E(x_t)$ e correlação dependente somente da diferença de tempo $h$ entre as duas observações e são independentes de seu valor $$E(x_t,x_{t+h})=g(h)$$ "
   ]
  },
  {
   "cell_type": "markdown",
   "metadata": {
    "slideshow": {
     "slide_type": "notes"
    }
   },
   "source": [
    "*Notas*\n",
    "\n",
    "Quando normalizadas entre -1 e 1, chamamos essa relação de autocorrelação, isso garante que a série é independente do tempo e tem características que podem ser úteis na predição futura da série temporal.\n",
    "\n",
    "correlação positiva sobe junto e negativa observáveis são inversamente proporcionais. Quanto mais próximo de zero menor a correlação e mais difícil de prever"
   ]
  },
  {
   "cell_type": "markdown",
   "metadata": {
    "slideshow": {
     "slide_type": "slide"
    }
   },
   "source": [
    "#### Função de autocorrelação (ACF)\n",
    "\n",
    "Plot ACF em forma de mapa para vários lags.\n",
    "\n",
    "Plot ACF com o intervalo de confiança de 95%. Autocorrelações fora do intervalo são estatisticamente relevante, dentro do intervalo são devidas ao ruído.\n",
    "\n"
   ]
  },
  {
   "cell_type": "markdown",
   "metadata": {
    "slideshow": {
     "slide_type": "slide"
    }
   },
   "source": [
    "#### Autocorrelação Parcial\n",
    "\n",
    "**Modelos autoregressivos (AR)** capturam a dependencia como regressão linear entre $x_{t+h}$ e $x_t$ mas da forma calculada anteriormente a influência dos valores intermediários  $x_t, x_{t+1},...,x_{t+h-1}$ também são consideradas.\n",
    "\n",
    "A autocorrelação parcial resolve esse problema definindo a correlação entre $x_{t+h}$ e $x_t$ desconsiderando os lags $t+1$ até $t+h-1$.\n",
    "\n",
    "Ajuda na identificação da ordem $h$ de um modelo $AR(h)$.\n",
    "\n"
   ]
  },
  {
   "cell_type": "markdown",
   "metadata": {
    "slideshow": {
     "slide_type": "notes"
    }
   },
   "source": [
    "*Notas*\n",
    "\n",
    "-  Plot_pacf, pontos acima do intervalo de confiança maiores que 1 (1 sempre está acima) nos dão a ordem: 1 ponto ordem 1, 2 pontos ordem 2..."
   ]
  },
  {
   "cell_type": "code",
   "execution_count": 2,
   "metadata": {},
   "outputs": [
    {
     "data": {
      "text/html": [
       "<div>\n",
       "<style scoped>\n",
       "    .dataframe tbody tr th:only-of-type {\n",
       "        vertical-align: middle;\n",
       "    }\n",
       "\n",
       "    .dataframe tbody tr th {\n",
       "        vertical-align: top;\n",
       "    }\n",
       "\n",
       "    .dataframe thead th {\n",
       "        text-align: right;\n",
       "    }\n",
       "</style>\n",
       "<table border=\"1\" class=\"dataframe\">\n",
       "  <thead>\n",
       "    <tr style=\"text-align: right;\">\n",
       "      <th></th>\n",
       "      <th>year</th>\n",
       "      <th>month</th>\n",
       "      <th>Sunspots</th>\n",
       "    </tr>\n",
       "    <tr>\n",
       "      <th>Date</th>\n",
       "      <th></th>\n",
       "      <th></th>\n",
       "      <th></th>\n",
       "    </tr>\n",
       "  </thead>\n",
       "  <tbody>\n",
       "    <tr>\n",
       "      <th>1749-01-01</th>\n",
       "      <td>1749</td>\n",
       "      <td>1</td>\n",
       "      <td>96.7</td>\n",
       "    </tr>\n",
       "    <tr>\n",
       "      <th>1749-02-01</th>\n",
       "      <td>1749</td>\n",
       "      <td>2</td>\n",
       "      <td>104.3</td>\n",
       "    </tr>\n",
       "    <tr>\n",
       "      <th>1749-03-01</th>\n",
       "      <td>1749</td>\n",
       "      <td>3</td>\n",
       "      <td>116.7</td>\n",
       "    </tr>\n",
       "    <tr>\n",
       "      <th>1749-04-01</th>\n",
       "      <td>1749</td>\n",
       "      <td>4</td>\n",
       "      <td>92.8</td>\n",
       "    </tr>\n",
       "    <tr>\n",
       "      <th>1749-05-01</th>\n",
       "      <td>1749</td>\n",
       "      <td>5</td>\n",
       "      <td>141.7</td>\n",
       "    </tr>\n",
       "  </tbody>\n",
       "</table>\n",
       "</div>"
      ],
      "text/plain": [
       "            year  month  Sunspots\n",
       "Date                             \n",
       "1749-01-01  1749      1      96.7\n",
       "1749-02-01  1749      2     104.3\n",
       "1749-03-01  1749      3     116.7\n",
       "1749-04-01  1749      4      92.8\n",
       "1749-05-01  1749      5     141.7"
      ]
     },
     "execution_count": 2,
     "metadata": {},
     "output_type": "execute_result"
    }
   ],
   "source": [
    "# Pré-tratamento dos dados\n",
    "df = pd.read_csv('SN_m_tot_V2.0.csv', sep=';', header=None)\n",
    "df.columns = ['year', 'month', 'FracDate', 'Sunspots', 'Std', 'Observations', 'Verified']\n",
    "df = df[['year', 'month', 'Sunspots']]\n",
    "\n",
    "# #df['Date'] = pd.to_datetime(df[\"Date\"])\n",
    "# #df_idx = df.set_index([\"Date\"], drop=True)\n",
    "df['Date'] = df.apply(lambda row: datetime(\n",
    "                              int(row['year']), int(row['month']),1), axis=1)\n",
    "df['Date'] = pd.to_datetime(df[\"Date\"])\n",
    "df_idx = df.set_index([\"Date\"], drop=True)\n",
    "df_idx.head(5)\n"
   ]
  },
  {
   "cell_type": "markdown",
   "metadata": {
    "slideshow": {
     "slide_type": "slide"
    }
   },
   "source": [
    "## Capítulo 2: Entendendo os dados de uma série temporal\n",
    "\n",
    "<img src=\"fluxograma.png\">\n"
   ]
  },
  {
   "cell_type": "markdown",
   "metadata": {
    "slideshow": {
     "slide_type": "slide"
    }
   },
   "source": [
    "### Processos estacionários\n",
    "\n",
    "Um **processo estacionário** requer que média, variância e autocorrelação sejam invariantes com respeito ao tempo da observação.\n",
    "\n",
    "No entanto, a maioria dos processos reais em séries temporais não são estacionários. Uma etapa crucial na análise de séries temporais é verificar se uma série é estacionária e métodos para tornar processos não estácionários em estacionários, removendo tendência e sazonalidade."
   ]
  },
  {
   "cell_type": "markdown",
   "metadata": {
    "slideshow": {
     "slide_type": "slide"
    }
   },
   "source": [
    "### Diferenciação\n",
    "\n",
    "Podendo ser de primeira ordem ou de segunda ordem para eliminação da tendência:\n",
    "\n",
    "$$\\dot{x}_t = (x_t-x_{t-1})$$\n",
    "$$\\ddot{x}_t = (\\dot{x}_t-\\dot{x}_{t-1})= (x_t-x_{t-1})-(x_{t-1}-x_{t-2})$$\n",
    "\n",
    "Se a série temporal tem sazonalidade com período conhecido $m$ a difereciação retira este efeito da série:\n",
    "\n",
    "$$\\dot{x}_t = x_t-x_{t-m} = \\epsilon_t$$"
   ]
  },
  {
   "cell_type": "markdown",
   "metadata": {
    "slideshow": {
     "slide_type": "slide"
    }
   },
   "source": [
    "### Teste de Dickey-Fuller aumentado\n",
    "\n",
    "Teste com $H_0$ sendo um processo não estacionário e a hipótese alternativa um processo estácionário.\n"
   ]
  },
  {
   "cell_type": "markdown",
   "metadata": {
    "slideshow": {
     "slide_type": "slide"
    }
   },
   "source": [
    "### Decomposição de uma série temporal\n",
    "\n",
    "-  Modelo aditivo \n",
    "$$x_t=F_t+S_t+\\epsilon_t$$\n",
    "-  Modelo multiplicativo\n",
    "$$x_t=F_t+S_t+\\epsilon_t$$\n",
    "$$\\log{x_t}=\\log{F_t}+\\log{S_t}+\\log{\\epsilon_t}$$\n"
   ]
  },
  {
   "cell_type": "markdown",
   "metadata": {
    "slideshow": {
     "slide_type": "slide"
    }
   },
   "source": [
    "### Médias móveis\n",
    "\n",
    "**Médias móveis (MA)** estimam a tendência média calculada pela média no período de $t\\pm k$ onde $k$ é o alcance da MA:\n",
    "\n",
    "$$F_t=\\frac{x_{t-k}+x_{t-k+1}+...+x_t+...+x_{t+k}}{2k+1}$$\n",
    "\n",
    "Usualmente nos referimos ao número total de observações $m=2k+1$ como a MA de ordem $m$.\n",
    "\n",
    "As médias móveis podem ser usadas para a suavização dos gráficos, foram descritas de forma simétrica a $x_t$ para o caso de $m$ ímpar mas podemos considerar ainda médias assimétricas $m=2k$.\n",
    "\n",
    "A assimetria de uma MA de ordem par pode ser eliminada tomando a segunda MA de ordem par. Como por exemplo no caso de $m=2$:\n",
    "\n",
    "$$F_t^{(2)}=\\frac{x_{t-1}+x_{t}}{2}$$\n",
    "\n",
    "Aplicando uma segunda média móvel de segunda ordem à série $F_t^{(2)}$ produziremos uma média movel final simétrica:\n",
    "\n",
    "$$2\\times F_t^{(2)}=\\frac{F_t^{(2)}+F_{t+1}^{(2)}}{2}=\\frac{1}{2}\\times \\frac{x_{t-1}+x_t}{2}+\\frac{x_{t}+x_{t+1}}{2}$$\n",
    "\n",
    "$$=\\frac{1}{4}x_{t-1}+\\frac{1}{2}x_t+\\frac{1}{4}x_{t+1}$$\n",
    "\n",
    "\n",
    "Em geral, podemos criar as médias móveis $n\\times F_t^{(m)}$ tomando primeiro a média de ordem $m$ seguida da média de ordem $n$. Para produzir uma MA simétrica $n$ e $m$ devem ser os dois pares ou os dois ímpares."
   ]
  },
  {
   "cell_type": "markdown",
   "metadata": {
    "slideshow": {
     "slide_type": "notes"
    }
   },
   "source": [
    "*Notas*\n",
    "\n",
    "Uma característica importante é que podemos chamar de média móvel ponderada, quanto mais próximo de $x_t$ maior o peso dado à variável, o que gera um conjunto de dados com curva mais suave."
   ]
  },
  {
   "cell_type": "markdown",
   "metadata": {
    "slideshow": {
     "slide_type": "slide"
    }
   },
   "source": [
    "### Ajuste sazonal usando médias móveis\n",
    "\n",
    "Podemos utilizar as séries $n\\times F_t^{(m)}$ descritas anteriormente como médias ponderadas que podem ser aplicadas para suavizar dados com sazonalidade para gerar estimativas de tendência. Por exemplo para dados trimestrais podemos aplicar $2\\times F_t^{(4)}$ (4 é o número de trimestres em um ano). A MA é tratada como a tendência dos dados e o resíduo avaliado pelo teste ACF.\n"
   ]
  },
  {
   "cell_type": "markdown",
   "metadata": {
    "slideshow": {
     "slide_type": "slide"
    }
   },
   "source": [
    "### Decomposição de série temporal\n",
    "\n",
    "#### Por médias móveis\n",
    "\n",
    "Pela abordagem descrita temos que:\n",
    "\n",
    "$$\\epsilon_t=x_t-F_t-S_t$$\n",
    "No modelo aditivo.\n",
    "\n",
    "$$\\epsilon_t=\\frac{x_t}{F_t\\times S_t}$$\n",
    "No modelo multiplicativo.\n",
    "\n",
    "#### Usando statsmodels.tsa\n",
    "\n",
    "Pacote que já tem esses modelos e precisamos apenas dar os parâmetros da decomposição."
   ]
  },
  {
   "cell_type": "markdown",
   "metadata": {
    "slideshow": {
     "slide_type": "slide"
    }
   },
   "source": [
    "## Capítulo 3: Métodos baseados em suavização exponencial\n",
    "\n",
    "O processo de predição baseado na suavização exponencial pode ser resumido como filtros que tomam inputs e separam os componentes tendência e ruído como na figura:\n",
    "\n",
    "FIGURA CAP 3\n",
    "\n"
   ]
  },
  {
   "cell_type": "markdown",
   "metadata": {
    "slideshow": {
     "slide_type": "slide"
    }
   },
   "source": [
    "### Suavização exponencial de primeira ordem\n",
    "\n",
    "É plicada em dados de variância constante e sem sazonalidade. Essa abordagem é recomendada para predições de curto prazo.\n",
    "\n",
    "A fórmula geral é dada por:\n",
    "$$x_t=\\alpha x_t+(1-\\alpha)x_{t-1}$$\n",
    "\n",
    "Aqui, o modelo é a média ponderada entre o valor atual e o valor anterior com um fator de suavização $\\alpha$ que nos dá o quão rápido ''esqueceremos'' a última observação. Quanto menor o $\\alpha$ maior é a influência dos valores anteriores e mais suave é a série."
   ]
  },
  {
   "cell_type": "markdown",
   "metadata": {
    "slideshow": {
     "slide_type": "notes"
    }
   },
   "source": [
    "A recursividade exponencial está na multiplicação a cada $t$ por $(1-\\alpha)$."
   ]
  },
  {
   "cell_type": "markdown",
   "metadata": {
    "slideshow": {
     "slide_type": "slide"
    }
   },
   "source": [
    "A acurácia do modelo pode ser avaliada por funções como o **erro absoluto médio (MAS)** e o **erro quadrado médio (MSE)**\n",
    "\n",
    "$$MSE =\\frac{1}{N} \\sum ^N_{i=1}(x_t-F_t)^2$$\n",
    "\n",
    "$$MAD=\\frac{1}{N} \\sum ^N_{i=1}|x_t-F_t|$$"
   ]
  },
  {
   "cell_type": "markdown",
   "metadata": {
    "slideshow": {
     "slide_type": "slide"
    }
   },
   "source": [
    "### Suavização exponencial de segunda ordem\n",
    "\n",
    "Aplicaremos a suavização anterior à tendência assumindo que a direção das mudanças da série temporal dependem da diferença dos pesos anteriores. Como resuldados tempos as seguintes funções com nível $\\ell$ e tendência $b$:\n",
    "\n",
    "$$\\ell_t = \\alpha x_t + (1-\\alpha)(\\ell_{t-1} + b_{t-1})$$\n",
    "\n",
    "$$b_t = \\beta(\\ell_t - \\ell_{t-1}) + (1-\\beta)b_{t-1}$$\n",
    "\n",
    "$$x_{t+1} = \\ell_t + b_t$$\n",
    "\n",
    "$\\beta$ é o coeficiente de suavização da segunda exponencial. A predição é a soma do modelo de valores de $\\ell$ e $b$."
   ]
  },
  {
   "cell_type": "markdown",
   "metadata": {
    "slideshow": {
     "slide_type": "notes"
    }
   },
   "source": [
    "Agora temos dois parâmetros $\\alpha$ e $\\beta$. O primeiro suaviza a curva em torno da tendência e o segundo suaviza a própria tendência."
   ]
  },
  {
   "cell_type": "markdown",
   "metadata": {
    "slideshow": {
     "slide_type": "slide"
    }
   },
   "source": [
    "## Capítulo 4: Modelos Autorregressivos\n",
    "\n",
    "### Modelos autorregressivos\n",
    "**Modelos autorregressivos (AR)** são modelos estatísticos muitos bons em predição de séries temporais em que os valores seguintes dependem dos valores anteriores. Assim, modelos AR são muito utilizados na predição de séries temporais.\n",
    "\n",
    "Os modelos autorregressivos são definidos como AR$(p)$ onde $p$ é a ordem do comporente AR.\n",
    "\n",
    "O modelo AR de primeira ordem, AR(1):\n",
    "$$x_t=\\phi x_{t-1}+\\in_t$$\n",
    "\n",
    "AR(2):\n",
    "\n",
    "$$x_t=\\phi_1 x_{t-1}+\\phi_2 x_{t-2}+\\in_t$$\n",
    "\n",
    "O modelo AR de p-ésima ordem, AR$(p)$:\n",
    "$$x_t=\\phi_1 x_{t-1}+\\phi_2 x_{t-2}+...+\\phi_p x_{t-p}+\\in_t$$\n",
    "\n",
    "$\\phi$ é o coeficiente do modelo, $\\in_t\\approx N(0,\\sigma^2)$ é o erro no tempo $t$."
   ]
  },
  {
   "cell_type": "markdown",
   "metadata": {
    "slideshow": {
     "slide_type": "slide"
    }
   },
   "source": [
    "### Modelos de Médias Móveis:\n",
    "\n",
    "Similarmente ao modelo AR o **modelo de médias móvias (MA)** tem o mesmo objetivo e ordem $q$, porém nestes modelos a suposição é que o erro atual depende do erro anterior."
   ]
  },
  {
   "cell_type": "markdown",
   "metadata": {
    "slideshow": {
     "slide_type": "slide"
    }
   },
   "source": [
    "### Modelo ARMA \n",
    "\n",
    "A combinação dos modelos anteriores AR$(p)$ e MA$(q)$ forma o modelo ARMA$(p,q)$:\n",
    "\n",
    "$$ x_t = \\alpha + \\phi_1 x_{t-1} + \\phi_2 x_{t-2} +...+ \\phi_p x_{p-q}-\\theta_1\\epsilon_{t-1}-\\theta_2\\epsilon_{t-2}-...-\\theta_q\\epsilon_{t-q}+\\epsilon_t $$"
   ]
  },
  {
   "cell_type": "markdown",
   "metadata": {
    "slideshow": {
     "slide_type": "fragment"
    }
   },
   "source": [
    "Algumas regras gerais para selecionar o $p$ e $q$ do modelo ARMA a ser utilizado:\n",
    "\n",
    "-  Autocorrelação decrescente exponencialmente e PACF com correlação significativa usando lag 1, então usamos o parâmetro $p$\n",
    "-  Autocorrelação formando um padrão seno e PACF com correlação significativa com lags 1 e 2, usamos $p=2$\n",
    "-  Autocorrelação é significativa e PACF cai exponencialmente, usar parâmetro $q$\n",
    "-  Autocorrelação é significativa e PACF tem padrão seno, usar parâmetro $q$\n",
    "\n"
   ]
  },
  {
   "cell_type": "markdown",
   "metadata": {
    "slideshow": {
     "slide_type": "slide"
    }
   },
   "source": [
    "### Modelo ARIMA\n",
    "\n",
    "É uma generalização do modelo ARMA que inclui componentes integradas.\n",
    "\n",
    "Uma extensão importante do modelo ARIMA é a inclusão da sazonalidade no modelo. Ele possui então seis parâmetros ARIMA$(p,d,q)(P,D,Q)_m$ onde P, D e Q representam a parte sazonal do modelo autorregressivo. O $m$ é o número de períodos na série.\n"
   ]
  },
  {
   "cell_type": "code",
   "execution_count": 1,
   "metadata": {
    "slideshow": {
     "slide_type": "slide"
    }
   },
   "outputs": [
    {
     "name": "stdout",
     "output_type": "stream",
     "text": [
      "olar\n"
     ]
    }
   ],
   "source": [
    "print('olar')"
   ]
  },
  {
   "cell_type": "markdown",
   "metadata": {
    "slideshow": {
     "slide_type": "slide"
    }
   },
   "source": [
    "## Capítulo 5: Deep Learning para predição de série temporal\n",
    "\n"
   ]
  }
 ],
 "metadata": {
  "celltoolbar": "Slideshow",
  "kernelspec": {
   "display_name": "Python 3",
   "language": "python",
   "name": "python3"
  },
  "language_info": {
   "codemirror_mode": {
    "name": "ipython",
    "version": 3
   },
   "file_extension": ".py",
   "mimetype": "text/x-python",
   "name": "python",
   "nbconvert_exporter": "python",
   "pygments_lexer": "ipython3",
   "version": "3.6.4"
  }
 },
 "nbformat": 4,
 "nbformat_minor": 2
}
